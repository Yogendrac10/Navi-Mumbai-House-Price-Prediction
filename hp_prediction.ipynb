{
 "cells": [
  {
   "cell_type": "code",
   "execution_count": 126,
   "metadata": {},
   "outputs": [],
   "source": [
    "import pandas as pd\n",
    "import numpy as np\n",
    "import matplotlib.pyplot as plt\n",
    "import seaborn as sns\n",
    "import re"
   ]
  },
  {
   "cell_type": "code",
   "execution_count": 205,
   "metadata": {},
   "outputs": [],
   "source": [
    "df = pd.read_csv('navi_mumbai_hp.csv')"
   ]
  },
  {
   "cell_type": "code",
   "execution_count": 206,
   "metadata": {},
   "outputs": [
    {
     "data": {
      "text/html": [
       "<div>\n",
       "<style scoped>\n",
       "    .dataframe tbody tr th:only-of-type {\n",
       "        vertical-align: middle;\n",
       "    }\n",
       "\n",
       "    .dataframe tbody tr th {\n",
       "        vertical-align: top;\n",
       "    }\n",
       "\n",
       "    .dataframe thead th {\n",
       "        text-align: right;\n",
       "    }\n",
       "</style>\n",
       "<table border=\"1\" class=\"dataframe\">\n",
       "  <thead>\n",
       "    <tr style=\"text-align: right;\">\n",
       "      <th></th>\n",
       "      <th>BHK</th>\n",
       "      <th>Total Area</th>\n",
       "      <th>Price</th>\n",
       "      <th>bedroom</th>\n",
       "    </tr>\n",
       "  </thead>\n",
       "  <tbody>\n",
       "    <tr>\n",
       "      <th>7075</th>\n",
       "      <td>2 BHK Apartment in Kharghar</td>\n",
       "      <td>950 sq.ft.\\n(88 sq.m.) Super built-up Area</td>\n",
       "      <td>₹ 82 L\\n₹ 8,631/sq.ft.</td>\n",
       "      <td>2 BHK\\n2 Baths</td>\n",
       "    </tr>\n",
       "    <tr>\n",
       "      <th>8066</th>\n",
       "      <td>2 BHK Apartment in Sector-35 Kamothe</td>\n",
       "      <td>857 sq.ft.\\n(80 sq.m.) Built-up Area</td>\n",
       "      <td>₹ 70 L\\n₹ 8,168/sq.ft.</td>\n",
       "      <td>2 BHK\\n2 Baths</td>\n",
       "    </tr>\n",
       "    <tr>\n",
       "      <th>7395</th>\n",
       "      <td>2 BHK Apartment in Sector 17 Ulwe</td>\n",
       "      <td>1,100 sq.ft.\\n(102 sq.m.) Super built-up Area</td>\n",
       "      <td>₹ 80 L\\n₹ 7,272/sq.ft.</td>\n",
       "      <td>2 BHK\\n2 Baths</td>\n",
       "    </tr>\n",
       "    <tr>\n",
       "      <th>710</th>\n",
       "      <td>3 BHK Apartment in Sector-35G Kharghar</td>\n",
       "      <td>1,550 sq.ft.\\n(144 sq.m.) Built-up Area</td>\n",
       "      <td>₹ 1.55 Cr\\n₹ 10,000/sq.ft.</td>\n",
       "      <td>3 BHK\\n3 Baths</td>\n",
       "    </tr>\n",
       "    <tr>\n",
       "      <th>1107</th>\n",
       "      <td>3 BHK Apartment in Kharghar</td>\n",
       "      <td>700 sq.ft.\\n(65 sq.m.) Carpet Area</td>\n",
       "      <td>₹ 90 L</td>\n",
       "      <td>3 BHK</td>\n",
       "    </tr>\n",
       "  </tbody>\n",
       "</table>\n",
       "</div>"
      ],
      "text/plain": [
       "                                         BHK  \\\n",
       "7075             2 BHK Apartment in Kharghar   \n",
       "8066    2 BHK Apartment in Sector-35 Kamothe   \n",
       "7395       2 BHK Apartment in Sector 17 Ulwe   \n",
       "710   3 BHK Apartment in Sector-35G Kharghar   \n",
       "1107             3 BHK Apartment in Kharghar   \n",
       "\n",
       "                                         Total Area  \\\n",
       "7075     950 sq.ft.\\n(88 sq.m.) Super built-up Area   \n",
       "8066           857 sq.ft.\\n(80 sq.m.) Built-up Area   \n",
       "7395  1,100 sq.ft.\\n(102 sq.m.) Super built-up Area   \n",
       "710         1,550 sq.ft.\\n(144 sq.m.) Built-up Area   \n",
       "1107             700 sq.ft.\\n(65 sq.m.) Carpet Area   \n",
       "\n",
       "                           Price         bedroom  \n",
       "7075      ₹ 82 L\\n₹ 8,631/sq.ft.  2 BHK\\n2 Baths  \n",
       "8066      ₹ 70 L\\n₹ 8,168/sq.ft.  2 BHK\\n2 Baths  \n",
       "7395      ₹ 80 L\\n₹ 7,272/sq.ft.  2 BHK\\n2 Baths  \n",
       "710   ₹ 1.55 Cr\\n₹ 10,000/sq.ft.  3 BHK\\n3 Baths  \n",
       "1107                      ₹ 90 L           3 BHK  "
      ]
     },
     "execution_count": 206,
     "metadata": {},
     "output_type": "execute_result"
    }
   ],
   "source": [
    "df.sample(5)"
   ]
  },
  {
   "cell_type": "code",
   "execution_count": 207,
   "metadata": {},
   "outputs": [
    {
     "data": {
      "text/plain": [
       "(10560, 4)"
      ]
     },
     "execution_count": 207,
     "metadata": {},
     "output_type": "execute_result"
    }
   ],
   "source": [
    "df.shape"
   ]
  },
  {
   "cell_type": "code",
   "execution_count": 208,
   "metadata": {},
   "outputs": [
    {
     "name": "stdout",
     "output_type": "stream",
     "text": [
      "<class 'pandas.core.frame.DataFrame'>\n",
      "RangeIndex: 10560 entries, 0 to 10559\n",
      "Data columns (total 4 columns):\n",
      " #   Column      Non-Null Count  Dtype \n",
      "---  ------      --------------  ----- \n",
      " 0   BHK         10560 non-null  object\n",
      " 1   Total Area  10560 non-null  object\n",
      " 2   Price       10560 non-null  object\n",
      " 3   bedroom     10556 non-null  object\n",
      "dtypes: object(4)\n",
      "memory usage: 330.1+ KB\n"
     ]
    }
   ],
   "source": [
    "df.info()"
   ]
  },
  {
   "cell_type": "code",
   "execution_count": 209,
   "metadata": {},
   "outputs": [],
   "source": [
    "# Exctracting locations\n",
    "location = []\n",
    "for i in df['BHK']:\n",
    "    x = i.split('in')[-1]\n",
    "    location.append(x.strip())"
   ]
  },
  {
   "cell_type": "code",
   "execution_count": 210,
   "metadata": {},
   "outputs": [
    {
     "data": {
      "text/plain": [
       "10560"
      ]
     },
     "execution_count": 210,
     "metadata": {},
     "output_type": "execute_result"
    }
   ],
   "source": [
    "len(location)"
   ]
  },
  {
   "cell_type": "code",
   "execution_count": 211,
   "metadata": {},
   "outputs": [],
   "source": [
    "df['location'] = location"
   ]
  },
  {
   "cell_type": "code",
   "execution_count": 212,
   "metadata": {},
   "outputs": [],
   "source": [
    "for i in df['location']:\n",
    "    if ('Sector' in i) or ('sector' in i):\n",
    "        x = i.split(' ')[-1]\n",
    "        df['location'] = df['location'].replace(i, x.strip()) "
   ]
  },
  {
   "cell_type": "code",
   "execution_count": 213,
   "metadata": {},
   "outputs": [],
   "source": [
    "for i in df['BHK']:\n",
    "    df['BHK'] = df['BHK'].replace(i, i.split('Apartment')[0].strip())"
   ]
  },
  {
   "cell_type": "code",
   "execution_count": 214,
   "metadata": {},
   "outputs": [],
   "source": [
    "# Extracting bathrooms from column bedroom\n",
    "df['bedroom'] = df['bedroom'].astype('str')\n",
    "bathroom = []\n",
    "for i in df['bedroom']:\n",
    "    if '\\n' in i:\n",
    "        x = i.split('\\n')[-1].split(' ')[0]\n",
    "        bathroom.append(x.strip())\n",
    "    else:\n",
    "        bathroom.append(None) "
   ]
  },
  {
   "cell_type": "code",
   "execution_count": 215,
   "metadata": {},
   "outputs": [
    {
     "data": {
      "text/plain": [
       "10560"
      ]
     },
     "execution_count": 215,
     "metadata": {},
     "output_type": "execute_result"
    }
   ],
   "source": [
    "len(bathroom)"
   ]
  },
  {
   "cell_type": "code",
   "execution_count": 216,
   "metadata": {},
   "outputs": [],
   "source": [
    "df['bathroom'] = bathroom"
   ]
  },
  {
   "cell_type": "code",
   "execution_count": 217,
   "metadata": {},
   "outputs": [],
   "source": [
    "for i in df['bedroom']:\n",
    "    df['bedroom'] = df['bedroom'].replace(i, i.split(\" \")[0].strip())"
   ]
  },
  {
   "cell_type": "code",
   "execution_count": 218,
   "metadata": {},
   "outputs": [],
   "source": [
    "# Cleaning column total area\n",
    "for i in df['Total Area']:\n",
    "    df['Total Area'] = df['Total Area'].replace(i, i.split(\"\\n\")[0].strip().split(' ')[0])"
   ]
  },
  {
   "cell_type": "code",
   "execution_count": 219,
   "metadata": {},
   "outputs": [],
   "source": [
    "for i in df['Total Area']:\n",
    "    if \"-\" in i:\n",
    "        df['Total Area'] = df['Total Area'].replace(i, i.split(\"-\")[-1])"
   ]
  },
  {
   "cell_type": "code",
   "execution_count": 220,
   "metadata": {},
   "outputs": [],
   "source": [
    "for i in df['Total Area']:\n",
    "    if \",\" in str(i):\n",
    "        x = str(i.split(',')[0]) + str(i.split(',')[-1])\n",
    "        df['Total Area'] = df['Total Area'].replace(i, int(x))\n",
    "    else:\n",
    "        df['Total Area'] = df['Total Area'].replace(i, int(i)) "
   ]
  },
  {
   "cell_type": "code",
   "execution_count": 221,
   "metadata": {},
   "outputs": [
    {
     "data": {
      "text/plain": [
       "2 BHK    4847\n",
       "1 BHK    3934\n",
       "3 BHK    1513\n",
       "4 BHK     222\n",
       "           19\n",
       "5 BHK      18\n",
       "6 BHK       6\n",
       "7 BHK       1\n",
       "Name: BHK, dtype: int64"
      ]
     },
     "execution_count": 221,
     "metadata": {},
     "output_type": "execute_result"
    }
   ],
   "source": [
    "df['BHK'].value_counts()"
   ]
  },
  {
   "cell_type": "code",
   "execution_count": 222,
   "metadata": {},
   "outputs": [],
   "source": [
    "per_sqft = []\n",
    "for i in df['Price']:\n",
    "    if '\\n' in i:\n",
    "        x = i.split('\\n')[-1]\n",
    "        per_sqft.append(x.strip())\n",
    "    else:\n",
    "        per_sqft.append(None)    "
   ]
  },
  {
   "cell_type": "code",
   "execution_count": 223,
   "metadata": {},
   "outputs": [
    {
     "data": {
      "text/plain": [
       "10560"
      ]
     },
     "execution_count": 223,
     "metadata": {},
     "output_type": "execute_result"
    }
   ],
   "source": [
    "len(per_sqft)"
   ]
  },
  {
   "cell_type": "code",
   "execution_count": 224,
   "metadata": {},
   "outputs": [],
   "source": [
    "df['Per sqft'] = per_sqft"
   ]
  },
  {
   "cell_type": "code",
   "execution_count": 225,
   "metadata": {},
   "outputs": [],
   "source": [
    "# Cleaning column Price\n",
    "for i in df['Price']:\n",
    "    df['Price'] = df['Price'].replace(i, i.split(\"\\n\")[0].strip())"
   ]
  },
  {
   "cell_type": "code",
   "execution_count": 226,
   "metadata": {},
   "outputs": [],
   "source": [
    "for i in df['Price']:\n",
    "    if '-' in i:\n",
    "        df['Price'] = df['Price'].replace(i, i.split(\"-\")[-1].strip())"
   ]
  },
  {
   "cell_type": "code",
   "execution_count": 227,
   "metadata": {},
   "outputs": [],
   "source": [
    "for i in df['Price']:\n",
    "    if '₹' in i:\n",
    "        df['Price'] = df['Price'].replace(i, str(i.split(\"₹\")[-1].strip()))"
   ]
  },
  {
   "cell_type": "code",
   "execution_count": 228,
   "metadata": {},
   "outputs": [],
   "source": [
    "for i in df['Price']:\n",
    "    df['Price'] = df['Price'].replace(i, str(i))"
   ]
  },
  {
   "cell_type": "code",
   "execution_count": 229,
   "metadata": {},
   "outputs": [],
   "source": [
    "for i in df['Price']:\n",
    "    if 'L' in str(i):\n",
    "        y = i.split(\" \")[0]\n",
    "        df['Price'] = df['Price'].replace(i, float(y)*100000)\n",
    "    elif 'Cr' in str(i):\n",
    "        y = i.split(\" \")[0]\n",
    "        df['Price'] = df['Price'].replace(i, float(y)*10000000)     \n",
    "    else:       \n",
    "        pass"
   ]
  },
  {
   "cell_type": "code",
   "execution_count": 231,
   "metadata": {},
   "outputs": [
    {
     "data": {
      "text/html": [
       "<div>\n",
       "<style scoped>\n",
       "    .dataframe tbody tr th:only-of-type {\n",
       "        vertical-align: middle;\n",
       "    }\n",
       "\n",
       "    .dataframe tbody tr th {\n",
       "        vertical-align: top;\n",
       "    }\n",
       "\n",
       "    .dataframe thead th {\n",
       "        text-align: right;\n",
       "    }\n",
       "</style>\n",
       "<table border=\"1\" class=\"dataframe\">\n",
       "  <thead>\n",
       "    <tr style=\"text-align: right;\">\n",
       "      <th></th>\n",
       "      <th>BHK</th>\n",
       "      <th>Total Area</th>\n",
       "      <th>Price</th>\n",
       "      <th>bedroom</th>\n",
       "      <th>location</th>\n",
       "      <th>bathroom</th>\n",
       "      <th>Per sqft</th>\n",
       "    </tr>\n",
       "  </thead>\n",
       "  <tbody>\n",
       "    <tr>\n",
       "      <th>6923</th>\n",
       "      <td>1 BHK</td>\n",
       "      <td>394</td>\n",
       "      <td>3500000.0</td>\n",
       "      <td>1</td>\n",
       "      <td>Dronagiri</td>\n",
       "      <td>1</td>\n",
       "      <td>₹ 8,883/sq.ft.</td>\n",
       "    </tr>\n",
       "    <tr>\n",
       "      <th>8725</th>\n",
       "      <td>3 BHK</td>\n",
       "      <td>2060</td>\n",
       "      <td>22000000.0</td>\n",
       "      <td>3</td>\n",
       "      <td>Kharghar</td>\n",
       "      <td>3</td>\n",
       "      <td>₹ 10,679/sq.ft.</td>\n",
       "    </tr>\n",
       "    <tr>\n",
       "      <th>6190</th>\n",
       "      <td>2 BHK</td>\n",
       "      <td>1180</td>\n",
       "      <td>10700000.0</td>\n",
       "      <td>2</td>\n",
       "      <td>Ulwe</td>\n",
       "      <td>2</td>\n",
       "      <td>₹ 9,067/sq.ft.</td>\n",
       "    </tr>\n",
       "    <tr>\n",
       "      <th>7914</th>\n",
       "      <td>2 BHK</td>\n",
       "      <td>1050</td>\n",
       "      <td>7800000.0</td>\n",
       "      <td>2</td>\n",
       "      <td>Kamothe</td>\n",
       "      <td>2</td>\n",
       "      <td>₹ 7,428/sq.ft.</td>\n",
       "    </tr>\n",
       "    <tr>\n",
       "      <th>5839</th>\n",
       "      <td>1 BHK</td>\n",
       "      <td>370</td>\n",
       "      <td>3500000.0</td>\n",
       "      <td>1</td>\n",
       "      <td>Bonkode</td>\n",
       "      <td>1</td>\n",
       "      <td>₹ 9,459/sq.ft.</td>\n",
       "    </tr>\n",
       "    <tr>\n",
       "      <th>590</th>\n",
       "      <td>2 BHK</td>\n",
       "      <td>1100</td>\n",
       "      <td>8250000.0</td>\n",
       "      <td>2</td>\n",
       "      <td>Ulwe</td>\n",
       "      <td>None</td>\n",
       "      <td>₹ 7,500/sq.ft.</td>\n",
       "    </tr>\n",
       "    <tr>\n",
       "      <th>9263</th>\n",
       "      <td>2 BHK</td>\n",
       "      <td>1300</td>\n",
       "      <td>8998000.0</td>\n",
       "      <td>2</td>\n",
       "      <td>Kamothe</td>\n",
       "      <td>2</td>\n",
       "      <td>₹ 6,921/sq.ft.</td>\n",
       "    </tr>\n",
       "    <tr>\n",
       "      <th>3016</th>\n",
       "      <td>2 BHK</td>\n",
       "      <td>950</td>\n",
       "      <td>6700000.0</td>\n",
       "      <td>2</td>\n",
       "      <td>Kamothe</td>\n",
       "      <td>2</td>\n",
       "      <td>₹ 7,052/sq.ft.</td>\n",
       "    </tr>\n",
       "    <tr>\n",
       "      <th>6088</th>\n",
       "      <td>1 BHK</td>\n",
       "      <td>630</td>\n",
       "      <td>4300000.0</td>\n",
       "      <td>1</td>\n",
       "      <td>Asudgaon</td>\n",
       "      <td>1</td>\n",
       "      <td>₹ 7,142/sq.ft.</td>\n",
       "    </tr>\n",
       "    <tr>\n",
       "      <th>6816</th>\n",
       "      <td>2 BHK</td>\n",
       "      <td>1078</td>\n",
       "      <td>6999000.0</td>\n",
       "      <td>2</td>\n",
       "      <td>Kharghar</td>\n",
       "      <td>2</td>\n",
       "      <td>₹ 6,492/sq.ft.</td>\n",
       "    </tr>\n",
       "  </tbody>\n",
       "</table>\n",
       "</div>"
      ],
      "text/plain": [
       "        BHK  Total Area       Price bedroom   location bathroom  \\\n",
       "6923  1 BHK         394   3500000.0       1  Dronagiri        1   \n",
       "8725  3 BHK        2060  22000000.0       3   Kharghar        3   \n",
       "6190  2 BHK        1180  10700000.0       2       Ulwe        2   \n",
       "7914  2 BHK        1050   7800000.0       2    Kamothe        2   \n",
       "5839  1 BHK         370   3500000.0       1    Bonkode        1   \n",
       "590   2 BHK        1100   8250000.0       2       Ulwe     None   \n",
       "9263  2 BHK        1300   8998000.0       2    Kamothe        2   \n",
       "3016  2 BHK         950   6700000.0       2    Kamothe        2   \n",
       "6088  1 BHK         630   4300000.0       1   Asudgaon        1   \n",
       "6816  2 BHK        1078   6999000.0       2   Kharghar        2   \n",
       "\n",
       "             Per sqft  \n",
       "6923   ₹ 8,883/sq.ft.  \n",
       "8725  ₹ 10,679/sq.ft.  \n",
       "6190   ₹ 9,067/sq.ft.  \n",
       "7914   ₹ 7,428/sq.ft.  \n",
       "5839   ₹ 9,459/sq.ft.  \n",
       "590    ₹ 7,500/sq.ft.  \n",
       "9263   ₹ 6,921/sq.ft.  \n",
       "3016   ₹ 7,052/sq.ft.  \n",
       "6088   ₹ 7,142/sq.ft.  \n",
       "6816   ₹ 6,492/sq.ft.  "
      ]
     },
     "execution_count": 231,
     "metadata": {},
     "output_type": "execute_result"
    }
   ],
   "source": [
    "df.sample(10)"
   ]
  },
  {
   "cell_type": "code",
   "execution_count": 232,
   "metadata": {},
   "outputs": [],
   "source": [
    "for i in df['Per sqft']:\n",
    "    if i != None:\n",
    "        if \"/\" in i :\n",
    "            df['Per sqft'] = df['Per sqft'].replace(i, i.split('/')[0].split(' ')[-1])"
   ]
  },
  {
   "cell_type": "code",
   "execution_count": 233,
   "metadata": {},
   "outputs": [],
   "source": [
    "for i in df['Per sqft']:\n",
    "    if i != None:\n",
    "        df['Per sqft'] = df['Per sqft'].replace(i, str(i))"
   ]
  },
  {
   "cell_type": "code",
   "execution_count": 234,
   "metadata": {},
   "outputs": [],
   "source": [
    "for i in df['Per sqft']:\n",
    "    if i != None:\n",
    "        if \",\" in str(i):\n",
    "            x = str(i.split(',')[0]) + str(i.split(',')[-1])\n",
    "            df['Per sqft'] = df['Per sqft'].replace(i, int(x))\n",
    "        elif \"\" not in str(i):\n",
    "            df['Per sqft'] = df['Per sqft'].replace(i, int(i))    "
   ]
  },
  {
   "cell_type": "code",
   "execution_count": 235,
   "metadata": {},
   "outputs": [
    {
     "data": {
      "text/html": [
       "<div>\n",
       "<style scoped>\n",
       "    .dataframe tbody tr th:only-of-type {\n",
       "        vertical-align: middle;\n",
       "    }\n",
       "\n",
       "    .dataframe tbody tr th {\n",
       "        vertical-align: top;\n",
       "    }\n",
       "\n",
       "    .dataframe thead th {\n",
       "        text-align: right;\n",
       "    }\n",
       "</style>\n",
       "<table border=\"1\" class=\"dataframe\">\n",
       "  <thead>\n",
       "    <tr style=\"text-align: right;\">\n",
       "      <th></th>\n",
       "      <th>BHK</th>\n",
       "      <th>Total Area</th>\n",
       "      <th>Price</th>\n",
       "      <th>bedroom</th>\n",
       "      <th>location</th>\n",
       "      <th>bathroom</th>\n",
       "      <th>Per sqft</th>\n",
       "    </tr>\n",
       "  </thead>\n",
       "  <tbody>\n",
       "    <tr>\n",
       "      <th>3103</th>\n",
       "      <td>2 BHK</td>\n",
       "      <td>1195</td>\n",
       "      <td>14900000.0</td>\n",
       "      <td>2</td>\n",
       "      <td>Ghansoli</td>\n",
       "      <td>2</td>\n",
       "      <td>12468</td>\n",
       "    </tr>\n",
       "    <tr>\n",
       "      <th>3958</th>\n",
       "      <td>1 BHK</td>\n",
       "      <td>730</td>\n",
       "      <td>3900000.0</td>\n",
       "      <td>1</td>\n",
       "      <td>Vichumbe</td>\n",
       "      <td>2</td>\n",
       "      <td>5342</td>\n",
       "    </tr>\n",
       "    <tr>\n",
       "      <th>9143</th>\n",
       "      <td>1 BHK</td>\n",
       "      <td>450</td>\n",
       "      <td>6500000.0</td>\n",
       "      <td>1</td>\n",
       "      <td>Khairane</td>\n",
       "      <td>1</td>\n",
       "      <td>14444</td>\n",
       "    </tr>\n",
       "    <tr>\n",
       "      <th>5042</th>\n",
       "      <td>1 BHK</td>\n",
       "      <td>450</td>\n",
       "      <td>3850000.0</td>\n",
       "      <td>1</td>\n",
       "      <td>Navade</td>\n",
       "      <td>2</td>\n",
       "      <td>8555</td>\n",
       "    </tr>\n",
       "    <tr>\n",
       "      <th>1155</th>\n",
       "      <td>1 BHK</td>\n",
       "      <td>350</td>\n",
       "      <td>4500000.0</td>\n",
       "      <td>1</td>\n",
       "      <td>Ulwe</td>\n",
       "      <td>1</td>\n",
       "      <td>12857</td>\n",
       "    </tr>\n",
       "    <tr>\n",
       "      <th>8683</th>\n",
       "      <td>1 BHK</td>\n",
       "      <td>660</td>\n",
       "      <td>3515000.0</td>\n",
       "      <td>1</td>\n",
       "      <td>Taloja Panchanand</td>\n",
       "      <td>1</td>\n",
       "      <td>5325</td>\n",
       "    </tr>\n",
       "    <tr>\n",
       "      <th>7136</th>\n",
       "      <td>2 BHK</td>\n",
       "      <td>700</td>\n",
       "      <td>9500000.0</td>\n",
       "      <td>2</td>\n",
       "      <td>secter 15 koparkhairne</td>\n",
       "      <td>2</td>\n",
       "      <td>13571</td>\n",
       "    </tr>\n",
       "    <tr>\n",
       "      <th>10518</th>\n",
       "      <td>2 BHK</td>\n",
       "      <td>960</td>\n",
       "      <td>11500000.0</td>\n",
       "      <td>2</td>\n",
       "      <td>seawoods</td>\n",
       "      <td>2</td>\n",
       "      <td>11979</td>\n",
       "    </tr>\n",
       "    <tr>\n",
       "      <th>3978</th>\n",
       "      <td>2 BHK</td>\n",
       "      <td>800</td>\n",
       "      <td>7000000.0</td>\n",
       "      <td>2</td>\n",
       "      <td>Panvel</td>\n",
       "      <td>2</td>\n",
       "      <td>8750</td>\n",
       "    </tr>\n",
       "    <tr>\n",
       "      <th>7178</th>\n",
       "      <td>2 BHK</td>\n",
       "      <td>600</td>\n",
       "      <td>11500000.0</td>\n",
       "      <td>2</td>\n",
       "      <td>Vashi</td>\n",
       "      <td>1</td>\n",
       "      <td>19166</td>\n",
       "    </tr>\n",
       "    <tr>\n",
       "      <th>9429</th>\n",
       "      <td>1 BHK</td>\n",
       "      <td>676</td>\n",
       "      <td>5300000.0</td>\n",
       "      <td>1</td>\n",
       "      <td>Roadpali</td>\n",
       "      <td>1</td>\n",
       "      <td>7840</td>\n",
       "    </tr>\n",
       "    <tr>\n",
       "      <th>4975</th>\n",
       "      <td>1 BHK</td>\n",
       "      <td>655</td>\n",
       "      <td>3350000.0</td>\n",
       "      <td>1</td>\n",
       "      <td>Vadghar</td>\n",
       "      <td>1</td>\n",
       "      <td>5114</td>\n",
       "    </tr>\n",
       "    <tr>\n",
       "      <th>3099</th>\n",
       "      <td>1 BHK</td>\n",
       "      <td>675</td>\n",
       "      <td>7700000.0</td>\n",
       "      <td>1</td>\n",
       "      <td>Koperkhairane</td>\n",
       "      <td>1</td>\n",
       "      <td>11407</td>\n",
       "    </tr>\n",
       "    <tr>\n",
       "      <th>2266</th>\n",
       "      <td>3 BHK</td>\n",
       "      <td>1710</td>\n",
       "      <td>17200000.0</td>\n",
       "      <td>3</td>\n",
       "      <td>Kharghar</td>\n",
       "      <td>3</td>\n",
       "      <td>10058</td>\n",
       "    </tr>\n",
       "    <tr>\n",
       "      <th>7497</th>\n",
       "      <td>1 BHK</td>\n",
       "      <td>275</td>\n",
       "      <td>3151000.0</td>\n",
       "      <td>1</td>\n",
       "      <td>Kharghar</td>\n",
       "      <td>1</td>\n",
       "      <td>11458</td>\n",
       "    </tr>\n",
       "    <tr>\n",
       "      <th>2462</th>\n",
       "      <td>2 BHK</td>\n",
       "      <td>750</td>\n",
       "      <td>7800000.0</td>\n",
       "      <td>2</td>\n",
       "      <td>Kamothe</td>\n",
       "      <td>2</td>\n",
       "      <td>10400</td>\n",
       "    </tr>\n",
       "    <tr>\n",
       "      <th>6164</th>\n",
       "      <td>1 BHK</td>\n",
       "      <td>455</td>\n",
       "      <td>8000000.0</td>\n",
       "      <td>1</td>\n",
       "      <td>Ghansoli</td>\n",
       "      <td>2</td>\n",
       "      <td>17582</td>\n",
       "    </tr>\n",
       "    <tr>\n",
       "      <th>6080</th>\n",
       "      <td>1 BHK</td>\n",
       "      <td>465</td>\n",
       "      <td>5800000.0</td>\n",
       "      <td>1</td>\n",
       "      <td>Panvel</td>\n",
       "      <td>1</td>\n",
       "      <td>12473</td>\n",
       "    </tr>\n",
       "    <tr>\n",
       "      <th>9966</th>\n",
       "      <td>1 BHK</td>\n",
       "      <td>410</td>\n",
       "      <td>5400000.0</td>\n",
       "      <td>1</td>\n",
       "      <td>Ulwe</td>\n",
       "      <td>2</td>\n",
       "      <td>13170</td>\n",
       "    </tr>\n",
       "    <tr>\n",
       "      <th>2079</th>\n",
       "      <td>3 BHK</td>\n",
       "      <td>1629</td>\n",
       "      <td>12700000.0</td>\n",
       "      <td>3</td>\n",
       "      <td>Ulwe</td>\n",
       "      <td>3</td>\n",
       "      <td>7796</td>\n",
       "    </tr>\n",
       "  </tbody>\n",
       "</table>\n",
       "</div>"
      ],
      "text/plain": [
       "         BHK  Total Area       Price bedroom                location bathroom  \\\n",
       "3103   2 BHK        1195  14900000.0       2                Ghansoli        2   \n",
       "3958   1 BHK         730   3900000.0       1                Vichumbe        2   \n",
       "9143   1 BHK         450   6500000.0       1                Khairane        1   \n",
       "5042   1 BHK         450   3850000.0       1                  Navade        2   \n",
       "1155   1 BHK         350   4500000.0       1                    Ulwe        1   \n",
       "8683   1 BHK         660   3515000.0       1       Taloja Panchanand        1   \n",
       "7136   2 BHK         700   9500000.0       2  secter 15 koparkhairne        2   \n",
       "10518  2 BHK         960  11500000.0       2                seawoods        2   \n",
       "3978   2 BHK         800   7000000.0       2                  Panvel        2   \n",
       "7178   2 BHK         600  11500000.0       2                   Vashi        1   \n",
       "9429   1 BHK         676   5300000.0       1                Roadpali        1   \n",
       "4975   1 BHK         655   3350000.0       1                 Vadghar        1   \n",
       "3099   1 BHK         675   7700000.0       1           Koperkhairane        1   \n",
       "2266   3 BHK        1710  17200000.0       3                Kharghar        3   \n",
       "7497   1 BHK         275   3151000.0       1                Kharghar        1   \n",
       "2462   2 BHK         750   7800000.0       2                 Kamothe        2   \n",
       "6164   1 BHK         455   8000000.0       1                Ghansoli        2   \n",
       "6080   1 BHK         465   5800000.0       1                  Panvel        1   \n",
       "9966   1 BHK         410   5400000.0       1                    Ulwe        2   \n",
       "2079   3 BHK        1629  12700000.0       3                    Ulwe        3   \n",
       "\n",
       "      Per sqft  \n",
       "3103     12468  \n",
       "3958      5342  \n",
       "9143     14444  \n",
       "5042      8555  \n",
       "1155     12857  \n",
       "8683      5325  \n",
       "7136     13571  \n",
       "10518    11979  \n",
       "3978      8750  \n",
       "7178     19166  \n",
       "9429      7840  \n",
       "4975      5114  \n",
       "3099     11407  \n",
       "2266     10058  \n",
       "7497     11458  \n",
       "2462     10400  \n",
       "6164     17582  \n",
       "6080     12473  \n",
       "9966     13170  \n",
       "2079      7796  "
      ]
     },
     "execution_count": 235,
     "metadata": {},
     "output_type": "execute_result"
    }
   ],
   "source": [
    "df.sample(20)"
   ]
  },
  {
   "cell_type": "code",
   "execution_count": 236,
   "metadata": {},
   "outputs": [],
   "source": [
    "for i in df['Price']:\n",
    "    if i == 'Price on Request':\n",
    "        df['Price'] = df['Price'].replace(i, None)"
   ]
  },
  {
   "cell_type": "code",
   "execution_count": 237,
   "metadata": {},
   "outputs": [
    {
     "data": {
      "text/plain": [
       "365"
      ]
     },
     "execution_count": 237,
     "metadata": {},
     "output_type": "execute_result"
    }
   ],
   "source": [
    "df['location'].nunique()"
   ]
  },
  {
   "cell_type": "code",
   "execution_count": 238,
   "metadata": {},
   "outputs": [
    {
     "data": {
      "text/plain": [
       "Kharghar         2141\n",
       "Ulwe             1827\n",
       "Kamothe          1029\n",
       "Panvel            653\n",
       "Ghansoli          603\n",
       "Taloja            390\n",
       "New Panvel        285\n",
       "Airoli            280\n",
       "Nerul             278\n",
       "Seawoods          215\n",
       "Roadpali          213\n",
       "Karanjade         206\n",
       "Shilphata         196\n",
       "Vashi             175\n",
       "Koparkhairane     143\n",
       "Sanpada           132\n",
       "Kalamboli         114\n",
       "Khairane          114\n",
       "Belapur           108\n",
       "Name: location, dtype: int64"
      ]
     },
     "execution_count": 238,
     "metadata": {},
     "output_type": "execute_result"
    }
   ],
   "source": [
    "df['location'].value_counts()[:19]"
   ]
  },
  {
   "cell_type": "code",
   "execution_count": 239,
   "metadata": {},
   "outputs": [],
   "source": [
    "for i in df['Price']:\n",
    "    if \",\" in str(i):\n",
    "        x = str(i.split(',')[0]) + str(i.split(',')[-1])\n",
    "        df['Price'] = df['Price'].replace(i, int(x))"
   ]
  },
  {
   "cell_type": "code",
   "execution_count": 240,
   "metadata": {},
   "outputs": [],
   "source": [
    "for i in df['bedroom']:\n",
    "    if i == 'nan':\n",
    "        df['bedroom'] = df['bedroom'].replace(i, 1)"
   ]
  },
  {
   "cell_type": "code",
   "execution_count": 241,
   "metadata": {},
   "outputs": [
    {
     "data": {
      "text/html": [
       "<div>\n",
       "<style scoped>\n",
       "    .dataframe tbody tr th:only-of-type {\n",
       "        vertical-align: middle;\n",
       "    }\n",
       "\n",
       "    .dataframe tbody tr th {\n",
       "        vertical-align: top;\n",
       "    }\n",
       "\n",
       "    .dataframe thead th {\n",
       "        text-align: right;\n",
       "    }\n",
       "</style>\n",
       "<table border=\"1\" class=\"dataframe\">\n",
       "  <thead>\n",
       "    <tr style=\"text-align: right;\">\n",
       "      <th></th>\n",
       "      <th>BHK</th>\n",
       "      <th>Total Area</th>\n",
       "      <th>Price</th>\n",
       "      <th>bedroom</th>\n",
       "      <th>location</th>\n",
       "      <th>bathroom</th>\n",
       "      <th>Per sqft</th>\n",
       "    </tr>\n",
       "  </thead>\n",
       "  <tbody>\n",
       "    <tr>\n",
       "      <th>0</th>\n",
       "      <td>2 BHK</td>\n",
       "      <td>950</td>\n",
       "      <td>5800000.0</td>\n",
       "      <td>2</td>\n",
       "      <td>Roadpali</td>\n",
       "      <td>2</td>\n",
       "      <td>6105</td>\n",
       "    </tr>\n",
       "    <tr>\n",
       "      <th>1</th>\n",
       "      <td>3 BHK</td>\n",
       "      <td>1850</td>\n",
       "      <td>19000000.0</td>\n",
       "      <td>3</td>\n",
       "      <td>Kharghar</td>\n",
       "      <td>3</td>\n",
       "      <td>10270</td>\n",
       "    </tr>\n",
       "    <tr>\n",
       "      <th>2</th>\n",
       "      <td>2 BHK</td>\n",
       "      <td>715</td>\n",
       "      <td>21200000.0</td>\n",
       "      <td>2</td>\n",
       "      <td>Vashi</td>\n",
       "      <td>None</td>\n",
       "      <td>None</td>\n",
       "    </tr>\n",
       "    <tr>\n",
       "      <th>3</th>\n",
       "      <td>1 BHK</td>\n",
       "      <td>261</td>\n",
       "      <td>4300000.0</td>\n",
       "      <td>1</td>\n",
       "      <td>Panvel</td>\n",
       "      <td>1</td>\n",
       "      <td>None</td>\n",
       "    </tr>\n",
       "    <tr>\n",
       "      <th>4</th>\n",
       "      <td>2 BHK</td>\n",
       "      <td>529</td>\n",
       "      <td>21300000.0</td>\n",
       "      <td>2</td>\n",
       "      <td>Sanpada</td>\n",
       "      <td>2</td>\n",
       "      <td>38769</td>\n",
       "    </tr>\n",
       "  </tbody>\n",
       "</table>\n",
       "</div>"
      ],
      "text/plain": [
       "     BHK  Total Area       Price bedroom  location bathroom Per sqft\n",
       "0  2 BHK         950   5800000.0       2  Roadpali        2     6105\n",
       "1  3 BHK        1850  19000000.0       3  Kharghar        3    10270\n",
       "2  2 BHK         715  21200000.0       2     Vashi     None     None\n",
       "3  1 BHK         261   4300000.0       1    Panvel        1     None\n",
       "4  2 BHK         529  21300000.0       2   Sanpada        2    38769"
      ]
     },
     "execution_count": 241,
     "metadata": {},
     "output_type": "execute_result"
    }
   ],
   "source": [
    "df.head()"
   ]
  },
  {
   "cell_type": "markdown",
   "metadata": {},
   "source": [
    "Fillling Missing Value"
   ]
  },
  {
   "cell_type": "code",
   "execution_count": 242,
   "metadata": {},
   "outputs": [],
   "source": [
    "df['bathroom'].fillna(1, inplace=True)"
   ]
  },
  {
   "cell_type": "code",
   "execution_count": 243,
   "metadata": {},
   "outputs": [],
   "source": [
    "x = df['location'].value_counts()[:19]"
   ]
  },
  {
   "cell_type": "code",
   "execution_count": 244,
   "metadata": {},
   "outputs": [
    {
     "data": {
      "text/plain": [
       "Index(['Kharghar', 'Ulwe', 'Kamothe', 'Panvel', 'Ghansoli', 'Taloja',\n",
       "       'New Panvel', 'Airoli', 'Nerul', 'Seawoods', 'Roadpali', 'Karanjade',\n",
       "       'Shilphata', 'Vashi', 'Koparkhairane', 'Sanpada', 'Kalamboli',\n",
       "       'Khairane', 'Belapur'],\n",
       "      dtype='object')"
      ]
     },
     "execution_count": 244,
     "metadata": {},
     "output_type": "execute_result"
    }
   ],
   "source": [
    "x.index"
   ]
  },
  {
   "cell_type": "code",
   "execution_count": 245,
   "metadata": {},
   "outputs": [],
   "source": [
    "for i in df['location']:\n",
    "    if i not in x.index:\n",
    "        df['location'] = df['location'].replace(i, 'Others')"
   ]
  },
  {
   "cell_type": "code",
   "execution_count": 246,
   "metadata": {},
   "outputs": [
    {
     "data": {
      "text/plain": [
       "20"
      ]
     },
     "execution_count": 246,
     "metadata": {},
     "output_type": "execute_result"
    }
   ],
   "source": [
    "df['location'].nunique()"
   ]
  },
  {
   "cell_type": "code",
   "execution_count": 247,
   "metadata": {},
   "outputs": [
    {
     "data": {
      "text/plain": [
       "Kharghar         2141\n",
       "Ulwe             1827\n",
       "Others           1458\n",
       "Kamothe          1029\n",
       "Panvel            653\n",
       "Ghansoli          603\n",
       "Taloja            390\n",
       "New Panvel        285\n",
       "Airoli            280\n",
       "Nerul             278\n",
       "Seawoods          215\n",
       "Roadpali          213\n",
       "Karanjade         206\n",
       "Shilphata         196\n",
       "Vashi             175\n",
       "Koparkhairane     143\n",
       "Sanpada           132\n",
       "Kalamboli         114\n",
       "Khairane          114\n",
       "Belapur           108\n",
       "Name: location, dtype: int64"
      ]
     },
     "execution_count": 247,
     "metadata": {},
     "output_type": "execute_result"
    }
   ],
   "source": [
    "df['location'].value_counts()"
   ]
  },
  {
   "cell_type": "code",
   "execution_count": 248,
   "metadata": {},
   "outputs": [],
   "source": [
    "for i in df['Price']:\n",
    "    df['Price'] = df['Price'].replace(i, float(i))\n",
    "\n",
    "for i in df['bedroom']:\n",
    "    df['bedroom'] = df['bedroom'].replace(i, float(i))\n",
    "\n",
    "for i in df['bathroom']:\n",
    "    df['bathroom'] = df['bathroom'].replace(i, float(i))"
   ]
  },
  {
   "cell_type": "code",
   "execution_count": 249,
   "metadata": {},
   "outputs": [
    {
     "data": {
      "text/html": [
       "<div>\n",
       "<style scoped>\n",
       "    .dataframe tbody tr th:only-of-type {\n",
       "        vertical-align: middle;\n",
       "    }\n",
       "\n",
       "    .dataframe tbody tr th {\n",
       "        vertical-align: top;\n",
       "    }\n",
       "\n",
       "    .dataframe thead th {\n",
       "        text-align: right;\n",
       "    }\n",
       "</style>\n",
       "<table border=\"1\" class=\"dataframe\">\n",
       "  <thead>\n",
       "    <tr style=\"text-align: right;\">\n",
       "      <th></th>\n",
       "      <th>BHK</th>\n",
       "      <th>Total Area</th>\n",
       "      <th>Price</th>\n",
       "      <th>bedroom</th>\n",
       "      <th>location</th>\n",
       "      <th>bathroom</th>\n",
       "      <th>Per sqft</th>\n",
       "    </tr>\n",
       "  </thead>\n",
       "  <tbody>\n",
       "    <tr>\n",
       "      <th>6941</th>\n",
       "      <td>3 BHK</td>\n",
       "      <td>1700</td>\n",
       "      <td>15500000.0</td>\n",
       "      <td>3.0</td>\n",
       "      <td>Ulwe</td>\n",
       "      <td>3.0</td>\n",
       "      <td>9118</td>\n",
       "    </tr>\n",
       "    <tr>\n",
       "      <th>3478</th>\n",
       "      <td>1 BHK</td>\n",
       "      <td>680</td>\n",
       "      <td>7999000.0</td>\n",
       "      <td>1.0</td>\n",
       "      <td>Kharghar</td>\n",
       "      <td>1.0</td>\n",
       "      <td>11763</td>\n",
       "    </tr>\n",
       "    <tr>\n",
       "      <th>8245</th>\n",
       "      <td>2 BHK</td>\n",
       "      <td>1000</td>\n",
       "      <td>8900000.0</td>\n",
       "      <td>2.0</td>\n",
       "      <td>Kamothe</td>\n",
       "      <td>2.0</td>\n",
       "      <td>8900</td>\n",
       "    </tr>\n",
       "    <tr>\n",
       "      <th>10263</th>\n",
       "      <td>2 BHK</td>\n",
       "      <td>1100</td>\n",
       "      <td>8000000.0</td>\n",
       "      <td>2.0</td>\n",
       "      <td>Ulwe</td>\n",
       "      <td>2.0</td>\n",
       "      <td>7272</td>\n",
       "    </tr>\n",
       "    <tr>\n",
       "      <th>2204</th>\n",
       "      <td>3 BHK</td>\n",
       "      <td>1655</td>\n",
       "      <td>14700000.0</td>\n",
       "      <td>3.0</td>\n",
       "      <td>Ulwe</td>\n",
       "      <td>3.0</td>\n",
       "      <td>8882</td>\n",
       "    </tr>\n",
       "  </tbody>\n",
       "</table>\n",
       "</div>"
      ],
      "text/plain": [
       "         BHK  Total Area       Price  bedroom  location  bathroom Per sqft\n",
       "6941   3 BHK        1700  15500000.0      3.0      Ulwe       3.0     9118\n",
       "3478   1 BHK         680   7999000.0      1.0  Kharghar       1.0    11763\n",
       "8245   2 BHK        1000   8900000.0      2.0   Kamothe       2.0     8900\n",
       "10263  2 BHK        1100   8000000.0      2.0      Ulwe       2.0     7272\n",
       "2204   3 BHK        1655  14700000.0      3.0      Ulwe       3.0     8882"
      ]
     },
     "execution_count": 249,
     "metadata": {},
     "output_type": "execute_result"
    }
   ],
   "source": [
    "df.sample(5)"
   ]
  },
  {
   "cell_type": "markdown",
   "metadata": {},
   "source": [
    "Data Modelling"
   ]
  },
  {
   "cell_type": "code",
   "execution_count": 251,
   "metadata": {},
   "outputs": [
    {
     "data": {
      "text/plain": [
       "BHK             0\n",
       "Total Area      0\n",
       "Price           0\n",
       "bedroom         0\n",
       "location        0\n",
       "bathroom        0\n",
       "Per sqft      287\n",
       "dtype: int64"
      ]
     },
     "execution_count": 251,
     "metadata": {},
     "output_type": "execute_result"
    }
   ],
   "source": [
    "df.isna().sum()"
   ]
  },
  {
   "cell_type": "code",
   "execution_count": 252,
   "metadata": {},
   "outputs": [],
   "source": [
    "loc = list(df['location'].unique())"
   ]
  },
  {
   "cell_type": "code",
   "execution_count": 253,
   "metadata": {},
   "outputs": [
    {
     "data": {
      "text/html": [
       "<div>\n",
       "<style scoped>\n",
       "    .dataframe tbody tr th:only-of-type {\n",
       "        vertical-align: middle;\n",
       "    }\n",
       "\n",
       "    .dataframe tbody tr th {\n",
       "        vertical-align: top;\n",
       "    }\n",
       "\n",
       "    .dataframe thead th {\n",
       "        text-align: right;\n",
       "    }\n",
       "</style>\n",
       "<table border=\"1\" class=\"dataframe\">\n",
       "  <thead>\n",
       "    <tr style=\"text-align: right;\">\n",
       "      <th></th>\n",
       "      <th>Total Area</th>\n",
       "      <th>Price</th>\n",
       "      <th>bedroom</th>\n",
       "      <th>bathroom</th>\n",
       "    </tr>\n",
       "  </thead>\n",
       "  <tbody>\n",
       "    <tr>\n",
       "      <th>count</th>\n",
       "      <td>10560.000000</td>\n",
       "      <td>1.056000e+04</td>\n",
       "      <td>10560.000000</td>\n",
       "      <td>10560.000000</td>\n",
       "    </tr>\n",
       "    <tr>\n",
       "      <th>mean</th>\n",
       "      <td>1070.301136</td>\n",
       "      <td>1.058778e+07</td>\n",
       "      <td>1.819034</td>\n",
       "      <td>1.860890</td>\n",
       "    </tr>\n",
       "    <tr>\n",
       "      <th>std</th>\n",
       "      <td>3749.206792</td>\n",
       "      <td>2.245138e+07</td>\n",
       "      <td>0.771888</td>\n",
       "      <td>0.731798</td>\n",
       "    </tr>\n",
       "    <tr>\n",
       "      <th>min</th>\n",
       "      <td>39.000000</td>\n",
       "      <td>2.500000e+04</td>\n",
       "      <td>1.000000</td>\n",
       "      <td>1.000000</td>\n",
       "    </tr>\n",
       "    <tr>\n",
       "      <th>25%</th>\n",
       "      <td>643.000000</td>\n",
       "      <td>5.300000e+06</td>\n",
       "      <td>1.000000</td>\n",
       "      <td>1.000000</td>\n",
       "    </tr>\n",
       "    <tr>\n",
       "      <th>50%</th>\n",
       "      <td>870.000000</td>\n",
       "      <td>8.100000e+06</td>\n",
       "      <td>2.000000</td>\n",
       "      <td>2.000000</td>\n",
       "    </tr>\n",
       "    <tr>\n",
       "      <th>75%</th>\n",
       "      <td>1170.000000</td>\n",
       "      <td>1.200000e+07</td>\n",
       "      <td>2.000000</td>\n",
       "      <td>2.000000</td>\n",
       "    </tr>\n",
       "    <tr>\n",
       "      <th>max</th>\n",
       "      <td>283140.000000</td>\n",
       "      <td>1.650000e+09</td>\n",
       "      <td>7.000000</td>\n",
       "      <td>6.000000</td>\n",
       "    </tr>\n",
       "  </tbody>\n",
       "</table>\n",
       "</div>"
      ],
      "text/plain": [
       "          Total Area         Price       bedroom      bathroom\n",
       "count   10560.000000  1.056000e+04  10560.000000  10560.000000\n",
       "mean     1070.301136  1.058778e+07      1.819034      1.860890\n",
       "std      3749.206792  2.245138e+07      0.771888      0.731798\n",
       "min        39.000000  2.500000e+04      1.000000      1.000000\n",
       "25%       643.000000  5.300000e+06      1.000000      1.000000\n",
       "50%       870.000000  8.100000e+06      2.000000      2.000000\n",
       "75%      1170.000000  1.200000e+07      2.000000      2.000000\n",
       "max    283140.000000  1.650000e+09      7.000000      6.000000"
      ]
     },
     "execution_count": 253,
     "metadata": {},
     "output_type": "execute_result"
    }
   ],
   "source": [
    "df.describe()"
   ]
  },
  {
   "cell_type": "code",
   "execution_count": 254,
   "metadata": {},
   "outputs": [
    {
     "data": {
      "text/plain": [
       "(10520, 7)"
      ]
     },
     "execution_count": 254,
     "metadata": {},
     "output_type": "execute_result"
    }
   ],
   "source": [
    "df[(df['Price'] >= 1000000) & (df['Price'] <= 80000000)].shape"
   ]
  },
  {
   "cell_type": "code",
   "execution_count": 255,
   "metadata": {},
   "outputs": [],
   "source": [
    "df = df[(df['Price'] >= 1000000) & (df['Price'] <= 80000000)]"
   ]
  },
  {
   "cell_type": "code",
   "execution_count": 257,
   "metadata": {},
   "outputs": [],
   "source": [
    "# Saving data to csv\n",
    "df.to_csv('project.csv', index=False)"
   ]
  },
  {
   "cell_type": "code",
   "execution_count": 258,
   "metadata": {},
   "outputs": [
    {
     "data": {
      "text/plain": [
       "<Figure size 1440x576 with 0 Axes>"
      ]
     },
     "metadata": {},
     "output_type": "display_data"
    },
    {
     "data": {
      "image/png": "[encoded data removed]",
      "text/plain": [
       "<Figure size 360x360 with 1 Axes>"
      ]
     },
     "metadata": {
      "needs_background": "light"
     },
     "output_type": "display_data"
    }
   ],
   "source": [
    "plt.figure(figsize=(20,8))\n",
    "sns.displot(df['Price'], kde=True)\n",
    "plt.show()"
   ]
  },
  {
   "cell_type": "code",
   "execution_count": 260,
   "metadata": {},
   "outputs": [
    {
     "data": {
      "text/html": [
       "<div>\n",
       "<style scoped>\n",
       "    .dataframe tbody tr th:only-of-type {\n",
       "        vertical-align: middle;\n",
       "    }\n",
       "\n",
       "    .dataframe tbody tr th {\n",
       "        vertical-align: top;\n",
       "    }\n",
       "\n",
       "    .dataframe thead th {\n",
       "        text-align: right;\n",
       "    }\n",
       "</style>\n",
       "<table border=\"1\" class=\"dataframe\">\n",
       "  <thead>\n",
       "    <tr style=\"text-align: right;\">\n",
       "      <th></th>\n",
       "      <th>Total Area</th>\n",
       "      <th>Price</th>\n",
       "      <th>bedroom</th>\n",
       "      <th>bathroom</th>\n",
       "    </tr>\n",
       "  </thead>\n",
       "  <tbody>\n",
       "    <tr>\n",
       "      <th>count</th>\n",
       "      <td>10520.000000</td>\n",
       "      <td>1.052000e+04</td>\n",
       "      <td>10520.000000</td>\n",
       "      <td>10520.000000</td>\n",
       "    </tr>\n",
       "    <tr>\n",
       "      <th>mean</th>\n",
       "      <td>1056.415684</td>\n",
       "      <td>9.995299e+06</td>\n",
       "      <td>1.814354</td>\n",
       "      <td>1.856654</td>\n",
       "    </tr>\n",
       "    <tr>\n",
       "      <th>std</th>\n",
       "      <td>3718.397541</td>\n",
       "      <td>7.414929e+06</td>\n",
       "      <td>0.766642</td>\n",
       "      <td>0.726623</td>\n",
       "    </tr>\n",
       "    <tr>\n",
       "      <th>min</th>\n",
       "      <td>39.000000</td>\n",
       "      <td>1.000000e+06</td>\n",
       "      <td>1.000000</td>\n",
       "      <td>1.000000</td>\n",
       "    </tr>\n",
       "    <tr>\n",
       "      <th>25%</th>\n",
       "      <td>641.750000</td>\n",
       "      <td>5.300000e+06</td>\n",
       "      <td>1.000000</td>\n",
       "      <td>1.000000</td>\n",
       "    </tr>\n",
       "    <tr>\n",
       "      <th>50%</th>\n",
       "      <td>862.000000</td>\n",
       "      <td>8.100000e+06</td>\n",
       "      <td>2.000000</td>\n",
       "      <td>2.000000</td>\n",
       "    </tr>\n",
       "    <tr>\n",
       "      <th>75%</th>\n",
       "      <td>1165.000000</td>\n",
       "      <td>1.200000e+07</td>\n",
       "      <td>2.000000</td>\n",
       "      <td>2.000000</td>\n",
       "    </tr>\n",
       "    <tr>\n",
       "      <th>max</th>\n",
       "      <td>283140.000000</td>\n",
       "      <td>8.000000e+07</td>\n",
       "      <td>7.000000</td>\n",
       "      <td>6.000000</td>\n",
       "    </tr>\n",
       "  </tbody>\n",
       "</table>\n",
       "</div>"
      ],
      "text/plain": [
       "          Total Area         Price       bedroom      bathroom\n",
       "count   10520.000000  1.052000e+04  10520.000000  10520.000000\n",
       "mean     1056.415684  9.995299e+06      1.814354      1.856654\n",
       "std      3718.397541  7.414929e+06      0.766642      0.726623\n",
       "min        39.000000  1.000000e+06      1.000000      1.000000\n",
       "25%       641.750000  5.300000e+06      1.000000      1.000000\n",
       "50%       862.000000  8.100000e+06      2.000000      2.000000\n",
       "75%      1165.000000  1.200000e+07      2.000000      2.000000\n",
       "max    283140.000000  8.000000e+07      7.000000      6.000000"
      ]
     },
     "execution_count": 260,
     "metadata": {},
     "output_type": "execute_result"
    }
   ],
   "source": [
    "df.describe()"
   ]
  },
  {
   "cell_type": "code",
   "execution_count": 261,
   "metadata": {},
   "outputs": [],
   "source": [
    "from sklearn.model_selection import train_test_split"
   ]
  },
  {
   "cell_type": "code",
   "execution_count": 262,
   "metadata": {},
   "outputs": [],
   "source": [
    "X = df.drop(columns=['Price', 'BHK', 'Per sqft'], axis= 1)\n",
    "y = df['Price']"
   ]
  },
  {
   "cell_type": "code",
   "execution_count": 263,
   "metadata": {},
   "outputs": [
    {
     "data": {
      "text/plain": [
       "Total Area    0\n",
       "bedroom       0\n",
       "location      0\n",
       "bathroom      0\n",
       "dtype: int64"
      ]
     },
     "execution_count": 263,
     "metadata": {},
     "output_type": "execute_result"
    }
   ],
   "source": [
    "X.isna().sum()"
   ]
  },
  {
   "cell_type": "code",
   "execution_count": 264,
   "metadata": {},
   "outputs": [],
   "source": [
    "X_train, X_test, y_train, y_test = train_test_split(X, y, test_size=0.2, random_state=10)"
   ]
  },
  {
   "cell_type": "code",
   "execution_count": 268,
   "metadata": {},
   "outputs": [],
   "source": [
    "from sklearn.linear_model import LinearRegression\n",
    "from sklearn.tree import DecisionTreeRegressor\n",
    "from sklearn.metrics import mean_squared_error\n",
    "from sklearn.pipeline import Pipeline,make_pipeline\n",
    "from sklearn.preprocessing import MinMaxScaler\n",
    "from sklearn.preprocessing import OrdinalEncoder\n",
    "from sklearn.compose import ColumnTransformer, make_column_transformer\n",
    "from sklearn.ensemble import RandomForestRegressor\n",
    "from sklearn.metrics import r2_score"
   ]
  },
  {
   "cell_type": "code",
   "execution_count": 266,
   "metadata": {},
   "outputs": [
    {
     "data": {
      "text/html": [
       "<div>\n",
       "<style scoped>\n",
       "    .dataframe tbody tr th:only-of-type {\n",
       "        vertical-align: middle;\n",
       "    }\n",
       "\n",
       "    .dataframe tbody tr th {\n",
       "        vertical-align: top;\n",
       "    }\n",
       "\n",
       "    .dataframe thead th {\n",
       "        text-align: right;\n",
       "    }\n",
       "</style>\n",
       "<table border=\"1\" class=\"dataframe\">\n",
       "  <thead>\n",
       "    <tr style=\"text-align: right;\">\n",
       "      <th></th>\n",
       "      <th>Total Area</th>\n",
       "      <th>bedroom</th>\n",
       "      <th>location</th>\n",
       "      <th>bathroom</th>\n",
       "    </tr>\n",
       "  </thead>\n",
       "  <tbody>\n",
       "    <tr>\n",
       "      <th>0</th>\n",
       "      <td>950</td>\n",
       "      <td>2.0</td>\n",
       "      <td>Roadpali</td>\n",
       "      <td>2.0</td>\n",
       "    </tr>\n",
       "    <tr>\n",
       "      <th>1</th>\n",
       "      <td>1850</td>\n",
       "      <td>3.0</td>\n",
       "      <td>Kharghar</td>\n",
       "      <td>3.0</td>\n",
       "    </tr>\n",
       "    <tr>\n",
       "      <th>2</th>\n",
       "      <td>715</td>\n",
       "      <td>2.0</td>\n",
       "      <td>Vashi</td>\n",
       "      <td>1.0</td>\n",
       "    </tr>\n",
       "    <tr>\n",
       "      <th>3</th>\n",
       "      <td>261</td>\n",
       "      <td>1.0</td>\n",
       "      <td>Panvel</td>\n",
       "      <td>1.0</td>\n",
       "    </tr>\n",
       "    <tr>\n",
       "      <th>4</th>\n",
       "      <td>529</td>\n",
       "      <td>2.0</td>\n",
       "      <td>Sanpada</td>\n",
       "      <td>2.0</td>\n",
       "    </tr>\n",
       "  </tbody>\n",
       "</table>\n",
       "</div>"
      ],
      "text/plain": [
       "   Total Area  bedroom  location  bathroom\n",
       "0         950      2.0  Roadpali       2.0\n",
       "1        1850      3.0  Kharghar       3.0\n",
       "2         715      2.0     Vashi       1.0\n",
       "3         261      1.0    Panvel       1.0\n",
       "4         529      2.0   Sanpada       2.0"
      ]
     },
     "execution_count": 266,
     "metadata": {},
     "output_type": "execute_result"
    }
   ],
   "source": [
    "X.head()"
   ]
  },
  {
   "cell_type": "code",
   "execution_count": 267,
   "metadata": {},
   "outputs": [
    {
     "data": {
      "text/plain": [
       "0     5800000.0\n",
       "1    19000000.0\n",
       "2    21200000.0\n",
       "3     4300000.0\n",
       "4    21300000.0\n",
       "Name: Price, dtype: float64"
      ]
     },
     "execution_count": 267,
     "metadata": {},
     "output_type": "execute_result"
    }
   ],
   "source": [
    "y.head()"
   ]
  },
  {
   "cell_type": "code",
   "execution_count": 269,
   "metadata": {},
   "outputs": [
    {
     "name": "stdout",
     "output_type": "stream",
     "text": [
      "(8416, 4)\n",
      "(2104, 4)\n"
     ]
    }
   ],
   "source": [
    "print(X_train.shape)\n",
    "print(X_test.shape)"
   ]
  },
  {
   "cell_type": "code",
   "execution_count": 270,
   "metadata": {},
   "outputs": [],
   "source": [
    "# Encoding location column\n",
    "trf1 = make_column_transformer((OrdinalEncoder(), ['location']), remainder= 'passthrough' )"
   ]
  },
  {
   "cell_type": "code",
   "execution_count": 275,
   "metadata": {},
   "outputs": [],
   "source": [
    "# Applying Min max scaler\n",
    "trf2 = MinMaxScaler()"
   ]
  },
  {
   "cell_type": "code",
   "execution_count": 272,
   "metadata": {},
   "outputs": [],
   "source": [
    "rfr = RandomForestRegressor()"
   ]
  },
  {
   "cell_type": "code",
   "execution_count": 276,
   "metadata": {},
   "outputs": [],
   "source": [
    "pipe = make_pipeline(trf1, trf2, rfr)"
   ]
  },
  {
   "cell_type": "code",
   "execution_count": 277,
   "metadata": {},
   "outputs": [
    {
     "data": {
      "text/plain": [
       "Pipeline(steps=[('columntransformer',\n",
       "                 ColumnTransformer(remainder='passthrough',\n",
       "                                   transformers=[('ordinalencoder',\n",
       "                                                  OrdinalEncoder(),\n",
       "                                                  ['location'])])),\n",
       "                ('minmaxscaler', MinMaxScaler()),\n",
       "                ('randomforestregressor', RandomForestRegressor())])"
      ]
     },
     "execution_count": 277,
     "metadata": {},
     "output_type": "execute_result"
    }
   ],
   "source": [
    "pipe.fit(X_train, y_train)"
   ]
  },
  {
   "cell_type": "code",
   "execution_count": 279,
   "metadata": {},
   "outputs": [],
   "source": [
    "y_pred1 = pipe.predict(X_test)"
   ]
  },
  {
   "cell_type": "code",
   "execution_count": 280,
   "metadata": {},
   "outputs": [
    {
     "data": {
      "text/plain": [
       "0.8378293932555647"
      ]
     },
     "execution_count": 280,
     "metadata": {},
     "output_type": "execute_result"
    }
   ],
   "source": [
    "r2_score(y_test, y_pred1)"
   ]
  },
  {
   "cell_type": "code",
   "execution_count": 281,
   "metadata": {},
   "outputs": [],
   "source": [
    "import pickle"
   ]
  },
  {
   "cell_type": "code",
   "execution_count": 282,
   "metadata": {},
   "outputs": [],
   "source": [
    "pickle.dump(pipe, open('hp_prediction.pkl', 'wb'))"
   ]
  }
 ],
 "metadata": {
  "interpreter": {
   "hash": "c021abc77695094ec8c00fc9059103d84a5eb152cf9b296549ebd1a9a0291e22"
  },
  "kernelspec": {
   "display_name": "Python 3.9.10 64-bit (windows store)",
   "language": "python",
   "name": "python3"
  },
  "language_info": {
   "codemirror_mode": {
    "name": "ipython",
    "version": 3
   },
   "file_extension": ".py",
   "mimetype": "text/x-python",
   "name": "python",
   "nbconvert_exporter": "python",
   "pygments_lexer": "ipython3",
   "version": "3.9.12"
  },
  "orig_nbformat": 4
 },
 "nbformat": 4,
 "nbformat_minor": 2
}
